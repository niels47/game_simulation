{
 "cells": [
  {
   "cell_type": "code",
   "execution_count": null,
   "metadata": {
    "collapsed": false
   },
   "outputs": [],
   "source": [
    "import os\n",
    "USE_GOOGLE_DRIVE = False\n",
    "MOUNT_GDIR = \"/content/gdrive/MyDrive/Colab Notebooks/game_simulation\"\n",
    "OUTPUT_DIR_NAME = \"data\"\n",
    "\n",
    "def mount_google_drive():\n",
    "    from google.colab import drive\n",
    "    mount_directory = \"/content/gdrive\"\n",
    "    drive.mount(mount_directory)\n",
    "    return None\n",
    "\n",
    "if USE_GOOGLE_DRIVE:\n",
    "    mount_google_drive()\n",
    "    os.chdir(MOUNT_GDIR)\n",
    "\n",
    "if not os.path.isdir(OUTPUT_DIR_NAME):\n",
    "    os.mkdir(OUTPUT_DIR_NAME)\n",
    "print(os.getcwd())"
   ]
  },
  {
   "cell_type": "code",
   "execution_count": null,
   "metadata": {
    "collapsed": false
   },
   "outputs": [],
   "source": [
    "from datetime import datetime\n",
    "today = datetime.now()\n",
    "timestamp_dir = OUTPUT_DIR_NAME+\"/\"+today.strftime('%Y%m%d%H%M%S')\n",
    "if not os.path.isdir(timestamp_dir):\n",
    "    os.mkdir(timestamp_dir)\n",
    "else:\n",
    "    print(\"Target directory exits!\")"
   ]
  },
  {
   "cell_type": "code",
   "execution_count": null,
   "metadata": {
    "collapsed": false
   },
   "outputs": [],
   "source": [
    "MULTIPROCESSING = False\n",
    "PARALLEL_COMPUTING = False\n",
    "\n",
    "if MULTIPROCESSING:\n",
    "    import multiprocessing as mp\n",
    "    print(mp.cpu_count())\n",
    "\n",
    "if PARALLEL_COMPUTING: \n",
    "    from ipyparallel import Client\n",
    "    rc = Client(profile=\"default\")\n",
    "    dv = rc[:]  # dv = rc.load_balanced_view()\n",
    "    print(rc.ids)\n",
    "    with dv.sync_imports():\n",
    "        import numpy as np\n",
    "        from player import Player\n",
    "        from mall import Mall\n",
    "        from house import House\n",
    "        import matplotlib.pyplot as plt\n",
    "        import csv\n",
    "\n",
    "if not PARALLEL_COMPUTING: \n",
    "    import numpy as np\n",
    "    from player import Player\n",
    "    from mall import Mall\n",
    "    from house import House\n",
    "    import matplotlib.pyplot as plt\n",
    "    import csv\n",
    "    \n",
    "%matplotlib inline"
   ]
  },
  {
   "cell_type": "code",
   "execution_count": null,
   "metadata": {
    "collapsed": false
   },
   "outputs": [],
   "source": [
    "HOUSE_CHOICE_FUNCTIONS_SET = ('random', 'C_Func_1', 'C_Func_2', 'C_Func_3_v0', 'C_Func_3_v1')"
   ]
  },
  {
   "cell_type": "code",
   "execution_count": null,
   "metadata": {
    "collapsed": false
   },
   "outputs": [],
   "source": [
    "def game_run(total_interval, n_action, n_mall, house_action_label=None, **kwargs):\n",
    "    if not house_action_label in HOUSE_CHOICE_FUNCTIONS_SET:\n",
    "        raise  Exception(\"Wrong house choice function(s)!\")\n",
    "    else:\n",
    "        mall_ls = [Mall() for _ in range(n_mall)]\n",
    "        house = House(n_action)\n",
    "\n",
    "        if not os.path.isdir(timestamp_dir+'/'+house_action_label):\n",
    "            os.mkdir(timestamp_dir+'/'+house_action_label)\n",
    "\n",
    "        if house.sampled_action_state:\n",
    "            save_edge_file_name = (\n",
    "                timestamp_dir+'/'+house_action_label+'/'\n",
    "                +\"edge_history_\"+str(SAMPLE_ACTION_NUMBER)+\"_sampled_from_\"\n",
    "                +str(n_action)+\"_actions_\"+str(n_mall)+\"_malls\"+\".csv\"\n",
    "            )\n",
    "\n",
    "            save_volume_file_name = (\n",
    "                timestamp_dir+'/'+house_action_label+'/'\n",
    "                +\"volume_history_\"+str(SAMPLE_ACTION_NUMBER)+\"_sampled_from_\"\n",
    "                +str(n_action)+\"_actions_\"+str(n_mall)+\"_malls\"+\".csv\"\n",
    "            )\n",
    "\n",
    "            save_profit_file_name = (\n",
    "                timestamp_dir+'/'+house_action_label+'/'\n",
    "                +\"profit_history_\"+str(SAMPLE_ACTION_NUMBER)+\"_sampled_from_\"\n",
    "                +str(n_action)+\"_actions_\"+str(n_mall)+\"_malls\"+\".csv\"\n",
    "            )\n",
    "        else:\n",
    "            save_edge_file_name = (\n",
    "                timestamp_dir+'/'+house_action_label+'/'\n",
    "                +\"edge_history_\"+str(n_action)+\"_actions_\"\n",
    "                +str(n_mall)+\"_malls\"+\".csv\"\n",
    "            )\n",
    "            save_volume_file_name = (\n",
    "                timestamp_dir+'/'+house_action_label+'/'\n",
    "                +\"volume_history_\"+str(n_action)+\"_actions_\"\n",
    "                +str(n_mall)+\"_malls\"+\".csv\"\n",
    "            )\n",
    "\n",
    "            save_profit_file_name = (\n",
    "                timestamp_dir+'/'+house_action_label+'/'\n",
    "                +\"profit_history_\"+str(n_action)+\"_actions_\"\n",
    "                +str(n_mall)+\"_malls\"+\".csv\"\n",
    "            )\n",
    "\n",
    "        csv_edge_file = open(save_edge_file_name, 'w', newline='')\n",
    "        csv_volume_file = open(save_volume_file_name, 'w', newline='')\n",
    "        csv_profit_file = open(save_profit_file_name, 'w', newline='')\n",
    "        edge_writer = csv.writer(csv_edge_file, delimiter=',')\n",
    "        volume_writer = csv.writer(csv_volume_file, delimiter=',')\n",
    "        profit_writer = csv.writer(csv_profit_file, delimiter=',')\n",
    "        if house_action_label == 'random':\n",
    "            if kwargs:\n",
    "                message = (f\"Warning! choice function\"\n",
    "                           \"'random' do not need extra\"\n",
    "                           \" keywords like {kwargs}!\")\n",
    "                print(message)\n",
    "            else:\n",
    "                pass\n",
    "        else:\n",
    "            pass\n",
    "\n",
    "        for t in range(total_interval):\n",
    "            for m in mall_ls:\n",
    "                m.player_betting(n_action)\n",
    "\n",
    "            house.get_interval(t)\n",
    "            if house_action_label == 'random':\n",
    "                #if kwargs:\n",
    "                #    print(\"Warning! choice function 'random' do not need extra keywords!\")\n",
    "\n",
    "                house_action = house.choice_func_random_action(mall_ls)\n",
    "            elif house_action_label == 'C_Func_1':\n",
    "                house_action = house.choice_func_1(\n",
    "                    mall_ls, kwargs['upper_bound'], kwargs['lower_bound']\n",
    "                )\n",
    "            elif house_action_label == 'C_Func_2':\n",
    "                house_action = house.choice_func_2(\n",
    "                    mall_ls, kwargs['upper_bound'], kwargs['lower_bound'],\n",
    "                    kwargs['P'], kwargs['Q']\n",
    "                )\n",
    "            elif house_action_label == 'C_Func_3_v0':\n",
    "                house_action = house.choice_func_3(\n",
    "                    mall_ls, kwargs['upper_bound'], kwargs['lower_bound']\n",
    "                )\n",
    "            elif house_action_label == 'C_Func_3_v1':\n",
    "                house_action = house.choice_func_3_v1(\n",
    "                    mall_ls, kwargs['upper_bound'], kwargs['lower_bound']\n",
    "                )\n",
    "            else:\n",
    "                raise  Exception(\"Unknown error!\")\n",
    "\n",
    "            for m in mall_ls:\n",
    "                m.update_for(house_action, house.random_action)\n",
    "                # m.edge_record()  # This may consumes a lot of memory.\n",
    "                # m.reset_manipulated()\n",
    "            edge_writer.writerow([m.edge for m in mall_ls])\n",
    "            volume_writer.writerow([m.volume for m in mall_ls])\n",
    "            profit_writer.writerow([m.profit for m in mall_ls])\n",
    "\n",
    "        final_edge_ls = [m.edge  for m in mall_ls]\n",
    "        print(f\"Final edges: {final_edge_ls}\")\n",
    "        csv_edge_file.close()\n",
    "        csv_volume_file.close()\n",
    "        csv_profit_file.close()\n",
    "        if True:\n",
    "            plot_edge_history(\n",
    "                mall_ls,\n",
    "                total_interval=total_interval,\n",
    "                upper_bound=upper_bound,\n",
    "                lower_bound=lower_bound,\n",
    "                house_action_label=house_action_label\n",
    "            )\n",
    "        else:\n",
    "            pass\n",
    "        return None"
   ]
  },
  {
   "cell_type": "code",
   "execution_count": null,
   "metadata": {
    "collapsed": false
   },
   "outputs": [],
   "source": [
    "def plot_edge_history(mall_ls, total_interval, upper_bound=None, lower_bound=None, house_action_label=''):\n",
    "    fig = plt.figure()\n",
    "    for m in mall_ls:\n",
    "        plt.plot(m.edge_history)\n",
    "\n",
    "    if upper_bound:\n",
    "        plt.plot(np.zeros(total_interval) + upper_bound, \"k--\")\n",
    "    if lower_bound:\n",
    "        plt.plot(np.zeros(total_interval) + lower_bound, \"k--\")\n",
    "\n",
    "    plt.grid(True)\n",
    "    plt.xlabel(\"intervals\")\n",
    "    plt.ylabel(\"edge\")\n",
    "    if house_action_label:\n",
    "        plt.title(str(len(mall_ls))+' mall(s)'+' under '+ house_action_label)\n",
    "    else:\n",
    "        plt.title(str(len(mall_ls))+' mall(s)')\n",
    "\n",
    "    fig.savefig(timestamp_dir+\"/\"+\"edge_history_\"+str(n_action)+\"_actions_\"+str(n_mall)+\"_malls\"+\"_under_\"+house_action_label+\".png\")\n",
    "    return fig\n",
    "\n",
    "def plot_final_edge(mall_ls, total_interval, upper_bound=None, lower_bound=None, house_action_label=''):\n",
    "    fig = plt.figure()\n",
    "    plt.bar([i for i in range(n_mall)], np.array([m.edge_history[-1] for m in mall_ls]), align=\"edge\")\n",
    "    #plt.bar([i+0.5 for i,_ in enumerate(mall_id)], np.array([m.edge_history[-1] for m in mall_ls]))\n",
    "    plt.plot(np.zeros(n_mall+1) + upper_bound, \"k--\")\n",
    "    plt.plot(np.zeros(n_mall+1) + lower_bound, \"k--\")\n",
    "    plt.xlabel(\"mall_id\")\n",
    "    plt.ylabel(\"Final_edge\")\n",
    "    fig.savefig(timestamp_dir+\"/\"+\"final_edge_\"+str(n_action)+\"_actions_\"+str(n_mall)+\"_malls\"+\"_under_\"+house_action_label+\".png\")\n",
    "    return fig\n",
    "\n",
    "def plot_edge_convergence(mall_ls, total_interval, upper_bound=None, lower_bound=None, house_action_label='', method='in_out'):\n",
    "    fig = plt.figure()\n",
    "    if method == \"in_out\":\n",
    "       out_target = [list(map(lambda x:x < lower_bound or x > upper_bound, m.edge_history)) for m in mall_ls]\n",
    "       plt.plot(np.mean(out_target, axis=0))\n",
    "       plt.ylabel(\"out_target_ratio\")\n",
    "    elif method == \"abs\":\n",
    "       out_target_abs = [list(map(lambda x:lower_bound - x if x < lower_bound else\n",
    "                                  x-upper_bound if  x > upper_bound else 0, m.edge_history))\n",
    "                         for m in mall_ls\n",
    "       ]\n",
    "       plt.plot(np.mean(out_target_abs, axis=0))\n",
    "       plt.ylabel(\"mean_distance_of_order_1\")\n",
    "    else:\n",
    "        print(\"Something odd! Figure out this!\")\n",
    "        assert True == False\n",
    "\n",
    "    plt.plot(np.zeros(total_interval), \"k--\")\n",
    "\n",
    "    plt.grid(True)\n",
    "    plt.xlabel(\"intervals\")\n",
    "    \n",
    "    if house_action_label:\n",
    "        plt.title(str(len(mall_ls))+' mall(s)'+' under '+ house_action_label)\n",
    "    else:\n",
    "        plt.title(str(len(mall_ls))+' mall(s)')\n",
    "    fig.savefig(timestamp_dir+\"/\"+\"convergence_\"+str(n_action)+\"_actions_\"+str(n_mall)+\"_malls\"+\"_under_\"+house_action_label+\"_\"+method+\".png\")\n",
    "    return fig"
   ]
  },
  {
   "cell_type": "markdown",
   "metadata": {
    "collapsed": false
   },
   "source": [
    "# Parameters"
   ]
  },
  {
   "cell_type": "code",
   "execution_count": null,
   "metadata": {
    "collapsed": false
   },
   "outputs": [],
   "source": [
    "total_interval = 5\n",
    "n_mall = 2\n",
    "n_action = 100\n",
    "\n",
    "# Parameters for choice_func_1 and  choics_func_2\n",
    "upper_bound = 0.05\n",
    "lower_bound = 0.03\n",
    "P = 1 \n",
    "Q = 0.3"
   ]
  },
  {
   "cell_type": "code",
   "execution_count": null,
   "metadata": {
    "collapsed": false
   },
   "outputs": [],
   "source": [
    "kwargs = {\"total_interval\":total_interval,\n",
    "          \"n_action\":n_action,\n",
    "          \"n_mall\":n_mall,\n",
    "          \"upper_bound\":upper_bound,\n",
    "          \"lower_bound\":lower_bound}"
   ]
  },
  {
   "cell_type": "markdown",
   "metadata": {
    "collapsed": false
   },
   "source": [
    "# The outputs"
   ]
  },
  {
   "cell_type": "code",
   "execution_count": null,
   "metadata": {
    "collapsed": false
   },
   "outputs": [],
   "source": [
    "%%time\n",
    "game_run(**kwargs, house_action_label='random')"
   ]
  },
  {
   "cell_type": "code",
   "execution_count": null,
   "metadata": {
    "collapsed": false
   },
   "outputs": [],
   "source": [
    "%%time\n",
    "game_run(**kwargs, house_action_label='C_Func_1')"
   ]
  },
  {
   "cell_type": "code",
   "execution_count": null,
   "metadata": {
    "collapsed": false
   },
   "outputs": [],
   "source": [
    "%%time\n",
    "game_run(**kwargs, house_action_label='C_Func_2', P=P, Q=Q)"
   ]
  },
  {
   "cell_type": "code",
   "execution_count": null,
   "metadata": {
    "collapsed": false
   },
   "outputs": [],
   "source": [
    "%%time\n",
    "game_run(**kwargs, house_action_label='C_Func_3_v0')"
   ]
  },
  {
   "cell_type": "code",
   "execution_count": null,
   "metadata": {
    "collapsed": false
   },
   "outputs": [],
   "source": [
    "%%time\n",
    "game_run(**kwargs, house_action_label='C_Func_3_v1')"
   ]
  }
 ],
 "metadata": {
  "kernelspec": {
   "argv": [
    "python",
    "-m",
    "ipykernel_launcher",
    "-f",
    "{connection_file}"
   ],
   "display_name": "Python 3",
   "env": null,
   "interrupt_mode": "signal",
   "language": "python",
   "metadata": null,
   "name": "python3"
  },
  "name": "simulation.ipynb"
 },
 "nbformat": 4,
 "nbformat_minor": 4
}
