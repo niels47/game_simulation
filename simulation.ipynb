{
 "cells": [
  {
   "cell_type": "code",
   "execution_count": null,
   "metadata": {
    "collapsed": false
   },
   "outputs": [],
   "source": [
    "import os\n",
    "USE_GOOGLE_DRIVE = False\n",
    "MOUNT_GDIR = \"/content/gdrive/MyDrive/Colab Notebooks/game_simulation\"\n",
    "\n",
    "def mount_google_drive():\n",
    "    from google.colab import drive\n",
    "    mount_directory = \"/content/gdrive\"\n",
    "    drive.mount(mount_directory)\n",
    "    return None\n",
    "\n",
    "if USE_GOOGLE_DRIVE:\n",
    "    mount_google_drive()\n",
    "    os.chdir(MOUNT_GDIR)\n",
    "\n",
    "#if os.getcwd() != MOUNT_GDIR:\n",
    "#    os.chdir(MOUNT_GDIR)\n",
    "print(os.getcwd())\n"
   ]
  },
  {
   "cell_type": "code",
   "execution_count": null,
   "metadata": {
    "collapsed": false
   },
   "outputs": [],
   "source": [
    "MULTIPROCESSING = False\n",
    "PARALLEL_COMPUTING = False\n",
    "\n",
    "if MULTIPROCESSING:\n",
    "    import multiprocessing as mp\n",
    "    print(mp.cpu_count())\n",
    "\n",
    "if PARALLEL_COMPUTING: \n",
    "    from ipyparallel import Client\n",
    "    rc = Client(profile=\"default\")\n",
    "    dv = rc[:]  # dv = rc.load_balanced_view()\n",
    "    print(rc.ids)\n",
    "    with dv.sync_imports():\n",
    "        import numpy as np\n",
    "        from player import Player\n",
    "        from mall import Mall\n",
    "        from house import House\n",
    "        import matplotlib.pyplot as plt\n",
    "\n",
    "if not PARALLEL_COMPUTING: \n",
    "    import numpy as np\n",
    "    from player import Player\n",
    "    from mall import Mall\n",
    "    from house import House\n",
    "    import matplotlib.pyplot as plt\n",
    "    \n",
    "%matplotlib inline\n"
   ]
  },
  {
   "cell_type": "code",
   "execution_count": null,
   "metadata": {
    "collapsed": false
   },
   "outputs": [],
   "source": [
    "from datetime import datetime\n",
    "today = datetime.now()\n",
    "output_dir = today.strftime('%Y%m%d%H%M%S')\n",
    "if not os.path.isdir(output_dir):\n",
    "    os.mkdir(today.strftime('%Y%m%d%H%M%S'))\n",
    "else:\n",
    "    print(\"Target directory exits!\")"
   ]
  },
  {
   "cell_type": "code",
   "execution_count": null,
   "metadata": {
    "collapsed": false
   },
   "outputs": [],
   "source": [
    "import csv"
   ]
  },
  {
   "cell_type": "code",
   "execution_count": null,
   "metadata": {
    "collapsed": false
   },
   "outputs": [],
   "source": [
    "%%time\n",
    "for _ in range(20):\n",
    "    my = Player(100000)\n",
    "    print(my.Bernoulli_p)"
   ]
  },
  {
   "cell_type": "code",
   "execution_count": null,
   "metadata": {
    "collapsed": false
   },
   "outputs": [],
   "source": []
  },
  {
   "cell_type": "code",
   "execution_count": null,
   "metadata": {
    "collapsed": false
   },
   "outputs": [],
   "source": [
    "def plot_edge_history(mall_ls, total_interval, upper_bound=None, lower_bound=None, house_action_label=''):\n",
    "    fig = plt.figure()\n",
    "    for m in mall_ls:\n",
    "        plt.plot(m.edge_history)\n",
    "\n",
    "    if upper_bound:\n",
    "        plt.plot(np.zeros(total_interval) + upper_bound, \"k--\")\n",
    "    if lower_bound:\n",
    "        plt.plot(np.zeros(total_interval) + lower_bound, \"k--\")\n",
    "\n",
    "    plt.grid(True)\n",
    "    plt.xlabel(\"intervals\")\n",
    "    plt.ylabel(\"edge\")\n",
    "    if house_action_label:\n",
    "        plt.title(str(len(mall_ls))+' mall(s)'+' under '+ house_action_label)\n",
    "    else:\n",
    "        plt.title(str(len(mall_ls))+' mall(s)')\n",
    "    \n",
    "    fig.savefig(output_dir+\"/\"+\"edge_history_\"+str(n_action)+\"_actions_\"+str(n_mall)+\"_malls\"+\"_under_\"+house_action_label+\".png\")    \n",
    "    return fig\n",
    "\n",
    "def plot_final_edge(mall_ls, total_interval, upper_bound=None, lower_bound=None, house_action_label=''):\n",
    "    fig = plt.figure()\n",
    "    plt.bar([i for i in range(n_mall)], np.array([m.edge_history[-1] for m in mall_ls]), align=\"edge\")\n",
    "    #plt.bar([i+0.5 for i,_ in enumerate(mall_id)], np.array([m.edge_history[-1] for m in mall_ls]))\n",
    "    plt.plot(np.zeros(n_mall+1) + upper_bound, \"k--\")\n",
    "    plt.plot(np.zeros(n_mall+1) + lower_bound, \"k--\")\n",
    "    plt.xlabel(\"mall_id\")\n",
    "    plt.ylabel(\"Final_edge\")\n",
    "    fig.savefig(output_dir+\"/\"+\"final_edge_\"+str(n_action)+\"_actions_\"+str(n_mall)+\"_malls\"+\"_under_\"+house_action_label+\".png\")    \n",
    "    return fig\n",
    "\n",
    "def plot_edge_convergence(mall_ls, total_interval, upper_bound=None, lower_bound=None, house_action_label='', method='in_out'):\n",
    "    fig = plt.figure()\n",
    "    if method == \"in_out\":\n",
    "       out_target = [list(map(lambda x:x < lower_bound or x > upper_bound, m.edge_history)) for m in mall_ls]\n",
    "       plt.plot(np.mean(out_target, axis=0))\n",
    "       plt.ylabel(\"out_target_ratio\")\n",
    "    elif method == \"abs\":\n",
    "       out_target_abs = [list(map(lambda x:lower_bound - x if x < lower_bound else\n",
    "                                  x-upper_bound if  x > upper_bound else 0, m.edge_history))\n",
    "                         for m in mall_ls\n",
    "       ]\n",
    "       plt.plot(np.mean(out_target_abs, axis=0))\n",
    "       plt.ylabel(\"mean_distance_of_order_1\")\n",
    "    else:\n",
    "        print(\"Something odd! Figure out this!\")\n",
    "        assert True == False\n",
    "\n",
    "    plt.plot(np.zeros(total_interval), \"k--\")\n",
    "\n",
    "    plt.grid(True)\n",
    "    plt.xlabel(\"intervals\")\n",
    "    \n",
    "    if house_action_label:\n",
    "        plt.title(str(len(mall_ls))+' mall(s)'+' under '+ house_action_label)\n",
    "    else:\n",
    "        plt.title(str(len(mall_ls))+' mall(s)')\n",
    "    fig.savefig(output_dir+\"/\"+\"convergence_\"+str(n_action)+\"_actions_\"+str(n_mall)+\"_malls\"+\"_under_\"+house_action_label+\"_\"+method+\".png\")        \n",
    "    return fig"
   ]
  },
  {
   "cell_type": "code",
   "execution_count": null,
   "metadata": {
    "collapsed": false
   },
   "outputs": [],
   "source": [
    "HOUSE_CHOICE_FUNCTIONS_SET = ('random', 'C_Func_1', 'C_Func_2', 'C_Func_3_v0', 'C_Func_3_v1')"
   ]
  },
  {
   "cell_type": "code",
   "execution_count": null,
   "metadata": {
    "collapsed": false
   },
   "outputs": [],
   "source": [
    "def game_run(total_interval, n_action, n_mall, house_action_label=None, **kwargs):\n",
    "    if not house_action_label in HOUSE_CHOICE_FUNCTIONS_SET:\n",
    "        raise  Exception(\"Wrong house choice function(s)!\")\n",
    "    else:\n",
    "        mall_ls = [Mall() for _ in range(n_mall)]\n",
    "        house = House(n_action)\n",
    "        os.mkdir(output_dir+'/'+house_action_label)\n",
    "        csv_edge_file = open(output_dir+'/'+house_action_label+'/'+\"edge_history_\"+str(n_action)+\"_actions_\"+str(n_mall)+\"_malls\"+\".csv\", 'w', newline='')\n",
    "        edge_writer = csv.writer(csv_edge_file, delimiter=',')\n",
    "        \n",
    "        csv_volume_file = open(output_dir+'/'+house_action_label+'/'+\"volume_history_\"+str(n_action)+\"_actions_\"+str(n_mall)+\"_malls\"+\".csv\", 'w', newline='')\n",
    "        volume_writer = csv.writer(csv_volume_file, delimiter=',')\n",
    "        \n",
    "        csv_profit_file = open(output_dir+'/'+house_action_label+'/'+\"profit_history_\"+str(n_action)+\"_actions_\"+str(n_mall)+\"_malls\"+\".csv\", 'w', newline='')\n",
    "        profit_writer = csv.writer(csv_profit_file, delimiter=',')\n",
    "\n",
    "        for t in range(total_interval):\n",
    "            for m in mall_ls:\n",
    "                m.player_betting(n_action)\n",
    "\n",
    "            house.get_interval(t)\n",
    "            if house_action_label is 'random':\n",
    "                if kwargs:\n",
    "                    print(\"Warning! choice function 'random' do not need extra keywords!\")\n",
    "\n",
    "                house_action = house.choice_func_random_action(mall_ls)\n",
    "            elif house_action_label is 'C_Func_1':\n",
    "                house_action = house.choice_func_1(\n",
    "                    mall_ls, kwargs['upper_bound'], kwargs['lower_bound']\n",
    "                )\n",
    "            elif house_action_label is 'C_Func_2':\n",
    "                house_action = house.choice_func_2(\n",
    "                    mall_ls, kwargs['upper_bound'], kwargs['lower_bound'],\n",
    "                    kwargs['P'], kwargs['Q'] \n",
    "                )                 \n",
    "            elif house_action_label is 'C_Func_3_v0':\n",
    "                house_action = house.choice_func_3(\n",
    "                    mall_ls, kwargs['upper_bound'], kwargs['lower_bound']\n",
    "                )\n",
    "            elif house_action_label is 'C_Func_3_v1':\n",
    "                house_action = house.choice_func_3_v1(\n",
    "                    mall_ls, kwargs['upper_bound'], kwargs['lower_bound']\n",
    "                )\n",
    "            else:\n",
    "                raise  Exception(\"Unkown error!\")\n",
    "\n",
    "            for m in mall_ls:\n",
    "                m.update_for(house_action, house.random_action)\n",
    "                # m.edge_record()\n",
    "            edge_writer.writerow([m.edge for m in mall_ls])\n",
    "            volume_writer.writerow([m.volume for m in mall_ls])\n",
    "            profit_writer.writerow([m.profit for m in mall_ls])\n",
    "       \n",
    "        # final_edge_ls = [m.edge_history[-1]  for m in mall_ls if m.edge_history]\n",
    "        final_edge_ls = [m.edge  for m in mall_ls]\n",
    "        csv_edge_file.close()\n",
    "        csv_volume_file.close()\n",
    "        csv_profit_file.close()\n",
    "        return None"
   ]
  },
  {
   "cell_type": "code",
   "execution_count": null,
   "metadata": {
    "collapsed": false
   },
   "outputs": [],
   "source": [
    "def game_run_choice_func_random_action(total_interval, n_action, n_mall, house_action_label=\"random\"):\n",
    "    mall_ls = [Mall() for _ in range(n_mall)]\n",
    "    house = House(n_action)\n",
    "    for t in range(total_interval):\n",
    "        for m in mall_ls:\n",
    "            m.player_betting(n_action)\n",
    "\n",
    "        house.get_interval(t)\n",
    "        house_action = house.choice_func_random_action(mall_ls)\n",
    "\n",
    "        for m in mall_ls:\n",
    "            m.update_for(house_action, house.random_action)\n",
    "            m.edge_record()\n",
    "    final_edge_ls = [m.edge_history[-1] for m in mall_ls]\n",
    "    print(f\"final edges:{final_edge_ls}\")\n",
    "    plot_edge_history(mall_ls, total_interval, None, None, house_action_label)\n",
    " #   fig.savefig(output_dir+\"/\"+\"test_for_\"+str(n_action)+\"_actions_\"+str(n_mall)+\"_malls\"+\"_under_\"+house_action_label+\".png\")\n",
    "    plot_edge_convergence(mall_ls, total_interval, upper_bound, lower_bound, house_action_label, method=\"in_out\")\n",
    "    plot_edge_convergence(mall_ls, total_interval, upper_bound, lower_bound, house_action_label, method=\"abs\")\n",
    "    plot_final_edge(mall_ls, total_interval, upper_bound, lower_bound, house_action_label)\n",
    "\n",
    "    return None\n",
    "\n",
    "def game_run_choice_func_1(total_interval, n_action, n_mall, upper_bound, lower_bound, house_action_label='C_Func_1'):\n",
    "    mall_ls = [Mall() for _ in range(n_mall)]\n",
    "    house = House(n_action)\n",
    "    for t in range(total_interval):\n",
    "        for m in mall_ls:\n",
    "            m.player_betting(n_action)\n",
    "\n",
    "        house.get_interval(t)\n",
    "        house_action = house.choice_func_1(mall_ls, upper_bound, lower_bound)\n",
    "\n",
    "        for m in mall_ls:\n",
    "            m.update_for(house_action, house.random_action)\n",
    "            m.edge_record()\n",
    "    final_edge_ls = [m.edge_history[-1] for m in mall_ls]\n",
    "    print(f\"final edges:{final_edge_ls}\")\n",
    "   # plot_edge_history(mall_ls)\n",
    "    plot_edge_history(mall_ls, total_interval, upper_bound, lower_bound, house_action_label)\n",
    "   # fig.savefig(output_dir+\"/\"+\"test_for_\"+str(n_action)+\"_actions_\"+str(n_mall)+\"_malls\"+\"_under_\"+house_action_label+\".png\")\n",
    "    plot_edge_convergence(mall_ls, total_interval, upper_bound, lower_bound, house_action_label, method=\"in_out\")\n",
    "    plot_edge_convergence(mall_ls, total_interval, upper_bound, lower_bound, house_action_label, method=\"abs\")\n",
    "    plot_final_edge(mall_ls, total_interval, upper_bound, lower_bound, house_action_label)        \n",
    "    return None\n",
    "\n",
    "def game_run_choice_func_2(total_interval, n_action, n_mall, upper_bound, lower_bound, P, Q, house_action_label='C_Func_2'):\n",
    "    mall_ls = [Mall() for _ in range(n_mall)]\n",
    "    house = House(n_action)\n",
    "    for t in range(total_interval):\n",
    "        for m in mall_ls:\n",
    "            m.player_betting(n_action)\n",
    "\n",
    "        \n",
    "        house.get_interval(t)\n",
    "        house_action = house.choice_func_2(mall_ls, upper_bound, lower_bound, P, Q)\n",
    "    \n",
    "        for m in mall_ls:\n",
    "            m.update_for(house_action, house.random_action)\n",
    "            m.edge_record()\n",
    "    final_edge_ls = [m.edge_history[-1] for m in mall_ls]\n",
    "    print(f\"final edges:{final_edge_ls}\")\n",
    "    plot_edge_history(mall_ls, total_interval, upper_bound, lower_bound, house_action_label)\n",
    "  #  fig.savefig(output_dir+\"/\"+\"test_for_\"+str(n_action)+\"_actions_\"+str(n_mall)+\"_malls\"+\"_under_\"+house_action_label+\".png\")\n",
    "    plot_edge_convergence(mall_ls, total_interval, upper_bound, lower_bound, house_action_label, method=\"in_out\")\n",
    "    plot_edge_convergence(mall_ls, total_interval, upper_bound, lower_bound, house_action_label, method=\"abs\")\n",
    "    plot_final_edge(mall_ls, total_interval, upper_bound, lower_bound, house_action_label)        \n",
    "    return None\n",
    "\n",
    "def game_run_choice_func_3(total_interval, n_action, n_mall, upper_bound, lower_bound, house_action_label='C_Func_3_v0'):\n",
    "    mall_ls = [Mall() for _ in range(n_mall)]\n",
    "    house = House(n_action)\n",
    "    for t in range(total_interval):\n",
    "        for m in mall_ls:\n",
    "            m.player_betting(n_action)\n",
    "\n",
    "        house.get_interval(t)\n",
    "        house_action = house.choice_func_3(mall_ls, upper_bound, lower_bound)\n",
    "    \n",
    "        for m in mall_ls:\n",
    "            m.update_for(house_action, house.random_action)\n",
    "            m.edge_record()\n",
    "    final_edge_ls = [m.edge_history[-1] for m in mall_ls]\n",
    "    print(f\"final edges:{final_edge_ls}\")\n",
    "    plot_edge_history(mall_ls, total_interval, upper_bound, lower_bound, house_action_label)\n",
    "  #  fig.savefig(output_dir+\"/\"+\"test_for_\"+str(n_action)+\"_actions_\"+str(n_mall)+\"_malls\"+\"_under_\"+house_action_label+\".png\")\n",
    "    plot_edge_convergence(mall_ls, total_interval, upper_bound, lower_bound, house_action_label, method=\"in_out\")\n",
    "    plot_edge_convergence(mall_ls, total_interval, upper_bound, lower_bound, house_action_label, method=\"abs\")\n",
    "    plot_final_edge(mall_ls, total_interval, upper_bound, lower_bound, house_action_label)        \n",
    "    return None\n",
    "\n",
    "def game_run_choice_func_3_v1(total_interval, n_action, n_mall, upper_bound, lower_bound, house_action_label='C_Func_3_v1'):\n",
    "    mall_ls = [Mall() for _ in range(n_mall)]\n",
    "    house = House(n_action)\n",
    "    for t in range(total_interval):\n",
    "        for m in mall_ls:\n",
    "            m.player_betting(n_action)\n",
    "\n",
    "        house.get_interval(t)\n",
    "        house_action = house.choice_func_3_v1(mall_ls, upper_bound, lower_bound)\n",
    "\n",
    "        for m in mall_ls:\n",
    "            m.update_for(house_action, house.random_action)\n",
    "            m.edge_record()\n",
    "    final_edge_ls = [m.edge_history[-1] for m in mall_ls]\n",
    "    print(f\"final edges:{final_edge_ls}\")\n",
    "    plot_edge_history(mall_ls, total_interval, upper_bound, lower_bound, house_action_label)\n",
    "  #  fig.savefig(output_dir+\"/\"+\"test_for_\"+str(n_action)+\"_actions_\"+str(n_mall)+\"_malls\"+\"_under_\"+house_action_label+\".png\")\n",
    "    plot_edge_convergence(mall_ls, total_interval, upper_bound, lower_bound, house_action_label, method=\"in_out\")\n",
    "    plot_edge_convergence(mall_ls, total_interval, upper_bound, lower_bound, house_action_label, method=\"abs\")\n",
    "    plot_final_edge(mall_ls, total_interval, upper_bound, lower_bound, house_action_label)\n",
    "    return None\n"
   ]
  },
  {
   "cell_type": "code",
   "execution_count": null,
   "metadata": {
    "collapsed": false
   },
   "outputs": [],
   "source": [
    "%%time\n",
    "# Test.\n",
    "# Test The simpler cases of n_mall=0, n_mall=1  where n_action = 2 to see any contradictions against intuitions.\n",
    "# Make sure situations of the random action satisfy the intuition.\n",
    "\n",
    "total_interval = 30\n",
    "n_mall = 2\n",
    "n_action = 10\n",
    "upper_bound = 0.05\n",
    "lower_bound = 0.03\n",
    "P = 1 \n",
    "Q = 0.3\n",
    "mall_ls = [Mall() for _ in range(n_mall)]\n",
    "h = House(n_action)\n",
    "print([x.profit for x in mall_ls])\n",
    "print(\"=\"*13)\n",
    "for t in range(total_interval):\n",
    "    for m in mall_ls:\n",
    "        m.player_betting(n_action)\n",
    "#        print(m.interval)\n",
    "\n",
    "  #  mall_ls = list(map(lambda m:m.player_betting(),mall_ls))\n",
    "  #  print(mall_ls)\n",
    "\n",
    "    h.get_interval(t)\n",
    "\n",
    " #   house_action = h.choice_func_random_action(mall_ls)\n",
    " #   for w in range(1,5):\n",
    " #       pool = mp.Pool(processes=w)\n",
    " #       \n",
    " #       house_action = pool.map_async(h.choice_func_random_action, mall_ls)\n",
    " \n",
    "    house_action = h.choice_func_1(mall_ls, upper_bound, lower_bound)\n",
    "    house_action = h.choice_func_2(mall_ls, upper_bound, lower_bound, P, Q)\n",
    "    house_action = h.choice_func_3(mall_ls, upper_bound, lower_bound)\n",
    "    house_action = h.choice_func_3_v1(mall_ls, upper_bound, lower_bound)\n",
    "    h.action_record(house_action)\n",
    "    h.true_random_action_record()\n",
    "   # print(house_action)\n",
    "   # mall_ls = [m.update_for(house_action) for m in mall_ls]\n",
    "    for m in mall_ls:\n",
    "        m.update_for(house_action, h.random_action)\n",
    "        m.edge_record()\n",
    "        m.player_action_record()\n",
    "       # m.history_record()\n",
    "        m.reset_manipulated()\n",
    "  ##  mall_ls = list(map(lambda m:m.update_for(house_action),mall_ls))   \n",
    "  #  print([x.edge for x in mall_ls])\n",
    "#print([x.edge for x in mall_ls])"
   ]
  },
  {
   "cell_type": "code",
   "execution_count": null,
   "metadata": {
    "collapsed": false
   },
   "outputs": [],
   "source": [
    "[list(map(lambda x:x < lower_bound or x > upper_bound, m.)) for m in mall_ls]"
   ]
  },
  {
   "cell_type": "code",
   "execution_count": null,
   "metadata": {
    "collapsed": false
   },
   "outputs": [],
   "source": [
    "out_target = [list(map(lambda x:x < lower_bound or x > upper_bound, m.edge_history)) for m in mall_ls]\n",
    "out_target_1 = [list(map(lambda x:x - lower_bound if x < lower_bound else x-upper_bound if  x > upper_bound else 0, m.edge_history)) for m in mall_ls]\n",
    "out_target_abs = [list(map(lambda x:lower_bound - x if x < lower_bound else x-upper_bound if  x > upper_bound else 0, m.edge_history)) for m in mall_ls]\n",
    "out_target_2 = [list(map(lambda x:(x - lower_bound)**2 if x < lower_bound else (x - upper_bound)**2 if  x > upper_bound else 0, m.edge_history)) for m in mall_ls]"
   ]
  },
  {
   "cell_type": "code",
   "execution_count": null,
   "metadata": {
    "collapsed": false
   },
   "outputs": [],
   "source": [
    "print(out_target_1)"
   ]
  },
  {
   "cell_type": "code",
   "execution_count": null,
   "metadata": {
    "collapsed": false
   },
   "outputs": [],
   "source": [
    "plot_edge_history(mall_ls, total_interval, upper_bound, lower_bound)"
   ]
  },
  {
   "cell_type": "code",
   "execution_count": null,
   "metadata": {
    "collapsed": false
   },
   "outputs": [],
   "source": [
    "plot_edge_convergence(mall_ls, total_interval, upper_bound, lower_bound, method=\"in_out\")"
   ]
  },
  {
   "cell_type": "code",
   "execution_count": null,
   "metadata": {
    "collapsed": false
   },
   "outputs": [],
   "source": [
    "plot_edge_convergence(mall_ls, total_interval, upper_bound, lower_bound, method=\"abs\")"
   ]
  },
  {
   "cell_type": "code",
   "execution_count": null,
   "metadata": {
    "collapsed": false
   },
   "outputs": [],
   "source": [
    "plot_final_edge(mall_ls, total_interval, upper_bound, lower_bound)"
   ]
  },
  {
   "cell_type": "code",
   "execution_count": null,
   "metadata": {
    "collapsed": false
   },
   "outputs": [],
   "source": [
    "total_interval = 10\n",
    "n_mall = 2\n",
    "n_action = 17\n",
    "\n",
    "# Parameters for choice_func_1 and  choics_func_2\n",
    "upper_bound = 0.05\n",
    "lower_bound = 0.03\n",
    "P = 1 \n",
    "Q = 0.3"
   ]
  },
  {
   "cell_type": "code",
   "execution_count": null,
   "metadata": {
    "collapsed": false
   },
   "outputs": [],
   "source": [
    "%%capture random_output\n",
    "%%time\n",
    "#game_run_choice_func_random_action(total_interval, n_action, n_mall)\n",
    "game_run_choice_func_random_action(**{'total_interval':total_interval, 'n_action':n_action, 'n_mall':n_mall})\n",
    "#game_run_choice_func_random_action(n_action=n_action, n_mall=n_mall, total_interval=total_interval)"
   ]
  },
  {
   "cell_type": "code",
   "execution_count": null,
   "metadata": {
    "collapsed": false
   },
   "outputs": [],
   "source": [
    "random_output()"
   ]
  },
  {
   "cell_type": "code",
   "execution_count": null,
   "metadata": {
    "collapsed": false
   },
   "outputs": [],
   "source": [
    "%%capture func_1_output\n",
    "%%time\n",
    "game_run_choice_func_1(total_interval, n_action, n_mall, upper_bound, lower_bound)"
   ]
  },
  {
   "cell_type": "code",
   "execution_count": null,
   "metadata": {
    "collapsed": false
   },
   "outputs": [],
   "source": [
    "func_1_output()"
   ]
  },
  {
   "cell_type": "code",
   "execution_count": null,
   "metadata": {
    "collapsed": false
   },
   "outputs": [],
   "source": [
    "%%capture func_2_output \n",
    "%%time\n",
    "game_run_choice_func_2(total_interval, n_action, n_mall, upper_bound, lower_bound, P, Q)"
   ]
  },
  {
   "cell_type": "code",
   "execution_count": null,
   "metadata": {
    "collapsed": false
   },
   "outputs": [],
   "source": [
    "func_2_output() "
   ]
  },
  {
   "cell_type": "code",
   "execution_count": null,
   "metadata": {
    "collapsed": false
   },
   "outputs": [],
   "source": [
    "%%capture func_3_output \n",
    "%%time\n",
    "game_run_choice_func_3(total_interval, n_action, n_mall, upper_bound, lower_bound)"
   ]
  },
  {
   "cell_type": "code",
   "execution_count": null,
   "metadata": {
    "collapsed": false
   },
   "outputs": [],
   "source": [
    "func_3_output() "
   ]
  },
  {
   "cell_type": "code",
   "execution_count": null,
   "metadata": {
    "collapsed": false
   },
   "outputs": [],
   "source": [
    "%%capture func_3_v1\n",
    "%%time\n",
    "game_run_choice_func_3_v1(total_interval, n_action, n_mall, upper_bound, lower_bound)"
   ]
  },
  {
   "cell_type": "code",
   "execution_count": null,
   "metadata": {
    "collapsed": false
   },
   "outputs": [],
   "source": [
    "func_3_v1()"
   ]
  },
  {
   "cell_type": "markdown",
   "metadata": {
    "collapsed": false
   },
   "source": [
    "# New methods to output"
   ]
  },
  {
   "cell_type": "code",
   "execution_count": null,
   "metadata": {
    "collapsed": false
   },
   "outputs": [],
   "source": [
    "%%time\n",
    "game_run(total_interval, n_action, n_mall, house_action_label='random')"
   ]
  },
  {
   "cell_type": "code",
   "execution_count": null,
   "metadata": {
    "collapsed": false
   },
   "outputs": [],
   "source": [
    "%%time\n",
    "game_run(total_interval, n_action, n_mall, house_action_label='C_Func_1', upper_bound=upper_bound, lower_bound=lower_bound)\n",
    "#game_run(total_interval, n_action, n_mall, house_action_label='C_Func_1',upper_bound, lower_bound)"
   ]
  },
  {
   "cell_type": "code",
   "execution_count": null,
   "metadata": {
    "collapsed": false
   },
   "outputs": [],
   "source": [
    "%%time\n",
    "game_run(total_interval, n_action, n_mall, house_action_label='C_Func_2',upper_bound=upper_bound, lower_bound=lower_bound, P=P, Q=Q)\n",
    "#game_run(total_interval, n_action, n_mall, house_action_label='C_Func_1',upper_bound, lower_bound)"
   ]
  },
  {
   "cell_type": "code",
   "execution_count": null,
   "metadata": {
    "collapsed": false
   },
   "outputs": [],
   "source": [
    "%%time\n",
    "game_run(total_interval, n_action, n_mall, house_action_label='C_Func_3_v0',upper_bound=upper_bound, lower_bound=lower_bound)\n",
    "#game_run(total_interval, n_action, n_mall, house_action_label='C_Func_1',upper_bound, lower_bound)"
   ]
  },
  {
   "cell_type": "code",
   "execution_count": null,
   "metadata": {
    "collapsed": false
   },
   "outputs": [],
   "source": [
    "%%time\n",
    "game_run(total_interval, n_action, n_mall, house_action_label='C_Func_3_v1',upper_bound=upper_bound, lower_bound=lower_bound)\n",
    "#game_run(total_interval, n_action, n_mall, house_action_label='C_Func_1',upper_bound, lower_bound)"
   ]
  }
 ],
 "metadata": {
  "kernelspec": {
   "argv": [
    "python",
    "-m",
    "ipykernel_launcher",
    "-f",
    "{connection_file}"
   ],
   "display_name": "Python 3",
   "env": null,
   "interrupt_mode": "signal",
   "language": "python",
   "metadata": null,
   "name": "python3"
  },
  "name": "simulation.ipynb"
 },
 "nbformat": 4,
 "nbformat_minor": 4
}
